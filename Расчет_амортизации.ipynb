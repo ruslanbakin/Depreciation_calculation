{
  "nbformat": 4,
  "nbformat_minor": 0,
  "metadata": {
    "colab": {
      "provenance": [],
      "authorship_tag": "ABX9TyNCsuJgWhic6CVL44U/mAaD",
      "include_colab_link": true
    },
    "kernelspec": {
      "name": "python3",
      "display_name": "Python 3"
    },
    "language_info": {
      "name": "python"
    }
  },
  "cells": [
    {
      "cell_type": "markdown",
      "metadata": {
        "id": "view-in-github",
        "colab_type": "text"
      },
      "source": [
        "<a href=\"https://colab.research.google.com/github/ruslanbakin/Depreciation_calculation/blob/main/%D0%A0%D0%B0%D1%81%D1%87%D0%B5%D1%82_%D0%B0%D0%BC%D0%BE%D1%80%D1%82%D0%B8%D0%B7%D0%B0%D1%86%D0%B8%D0%B8.ipynb\" target=\"_parent\"><img src=\"https://colab.research.google.com/assets/colab-badge.svg\" alt=\"Open In Colab\"/></a>"
      ]
    },
    {
      "cell_type": "markdown",
      "source": [
        "Расчет амортизации (прямолинейная амортизация, метод уменьшения остаточной стоимости) в экономических расчетах. Стек может быть использован для хранения данных о стоимости активов на различных этапах амортизации."
      ],
      "metadata": {
        "id": "l2eYbj5oyJV7"
      }
    },
    {
      "cell_type": "code",
      "source": [
        "# Функция для расчета прямолинейной амортизации\n",
        "def straight_line_a(initial_cost, year_l):\n",
        "    # Рассчитываем ежегодную амортизацию\n",
        "    annual_a = initial_cost / year_l\n",
        "    remaining_value = initial_cost\n",
        "    a_stack = []\n",
        "\n",
        "    # Заполняем стек значениями амортизации на каждый год\n",
        "    for year in range(1, year_l + 1):\n",
        "        a_stack.append((year, annual_a))\n",
        "        remaining_value -= annual_a\n",
        "\n",
        "    return a_stack\n",
        "\n",
        "# Функция для расчета амортизации по методу уменьшения остаточной стоимости\n",
        "def declining_balance_a(A, year_l):\n",
        "    remaining_life = year_l\n",
        "    # Рассчитываем коэффициент уменьшения остаточной стоимости\n",
        "    depreciation_rate = 1 / year_l\n",
        "    remaining_value = A\n",
        "    a_stack = []\n",
        "\n",
        "    # Заполняем стек значениями амортизации на каждый год\n",
        "    for year in range(1, year_l + 1):\n",
        "        annual_a = A * depreciation_rate * remaining_life\n",
        "        a_stack.append((year, annual_a))\n",
        "        remaining_value -= annual_a\n",
        "        remaining_life -= 1\n",
        "\n",
        "    return a_stack\n",
        "\n",
        "# Пример использования\n",
        "\n",
        "#A = 10000\n",
        "A = int(input(\"выведите стоимость:\"))\n",
        "\n",
        "year_l = int(input(\"Введите срок:\"))\n",
        "\n",
        "# Прямолинейная амортизация\n",
        "straight_line_results = straight_line_a(A, year_l)\n",
        "while straight_line_results:\n",
        "    year, amortization_1 = straight_line_results.pop()\n",
        "\n",
        "\n",
        "# Метод уменьшения остаточной стоимости\n",
        "print(\"Прямолинейная амортизация:\\tМетод уменьшения остаточной стоимости:\")\n",
        "declining_balance_results = declining_balance_a(A, year_l)\n",
        "while declining_balance_results:\n",
        "    year, amortization = declining_balance_results.pop()\n",
        "    print(f\"Год {year}: {amortization_1}\\t\\t\\t   {amortization}\")\n",
        "\n",
        "# Пример доступа к данным на различных этапах амортизации\n",
        "print(\"\\nДоступ к данным на различных этапах амортизации:\")\n",
        "print(\"Год 2 прямолинейной амортизации:\", straight_line_a(A, year_l)[1])\n",
        "print(\"Год 3 метода уменьшения остаточной стоимости:\", declining_balance_a(A, year_l)[2])"
      ],
      "metadata": {
        "colab": {
          "base_uri": "https://localhost:8080/"
        },
        "id": "Owbr5kn8yHLI",
        "outputId": "f8e0da7e-67cd-44ed-ea08-367db5fe3c24"
      },
      "execution_count": 2,
      "outputs": [
        {
          "output_type": "stream",
          "name": "stdout",
          "text": [
            "выведите стоимость:1000\n",
            "Введите срок:3\n",
            "Прямолинейная амортизация:\tМетод уменьшения остаточной стоимости:\n",
            "Год 3: 333.3333333333333\t\t\t   333.3333333333333\n",
            "Год 2: 333.3333333333333\t\t\t   666.6666666666666\n",
            "Год 1: 333.3333333333333\t\t\t   1000.0\n",
            "\n",
            "Доступ к данным на различных этапах амортизации:\n",
            "Год 2 прямолинейной амортизации: (2, 333.3333333333333)\n",
            "Год 3 метода уменьшения остаточной стоимости: (3, 333.3333333333333)\n"
          ]
        }
      ]
    }
  ]
}